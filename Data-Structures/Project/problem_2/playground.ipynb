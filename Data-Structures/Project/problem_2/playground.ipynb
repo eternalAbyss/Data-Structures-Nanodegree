{
 "cells": [
  {
   "cell_type": "code",
   "execution_count": 1,
   "metadata": {},
   "outputs": [],
   "source": [
    "import os\n"
   ]
  },
  {
   "cell_type": "code",
   "execution_count": 2,
   "metadata": {},
   "outputs": [],
   "source": [
    "os.listdir('./testdir/')\n",
    "basepath = './testdir'"
   ]
  },
  {
   "cell_type": "code",
   "execution_count": 3,
   "metadata": {},
   "outputs": [
    {
     "name": "stdout",
     "output_type": "stream",
     "text": [
      "subdir4 True\n",
      "subdir3 True\n",
      "t1.c False\n",
      "subdir2 True\n",
      "subdir5 True\n",
      "t1.h False\n",
      "subdir1 True\n"
     ]
    }
   ],
   "source": [
    "for each in os.listdir('./testdir'):\n",
    "    print(each, os.path.isdir(os.path.join(basepath, each)))\n",
    "    "
   ]
  },
  {
   "cell_type": "code",
   "execution_count": 35,
   "metadata": {},
   "outputs": [
    {
     "name": "stdout",
     "output_type": "stream",
     "text": [
      "./testdir/subdir3/subsubdir1/b.c\n",
      "./testdir/t1.c\n",
      "./testdir/subdir5/a.c\n",
      "./testdir/subdir1/a.c\n"
     ]
    }
   ],
   "source": [
    "def file_explorer(path, files = []):\n",
    "    for each in os.listdir(path):\n",
    "        inner_path = os.path.join(path, each)\n",
    "        if os.path.isdir(inner_path):\n",
    "            file_explorer(inner_path, files)\n",
    "        else:\n",
    "            if each.endswith('.c'):\n",
    "                files.append(inner_path)\n",
    "    return files\n",
    "                \n",
    "output = file_explorer(basepath)\n",
    "for each in output:\n",
    "    print(each)"
   ]
  },
  {
   "cell_type": "code",
   "execution_count": 17,
   "metadata": {},
   "outputs": [],
   "source": []
  },
  {
   "cell_type": "code",
   "execution_count": null,
   "metadata": {},
   "outputs": [],
   "source": []
  },
  {
   "cell_type": "code",
   "execution_count": null,
   "metadata": {},
   "outputs": [],
   "source": []
  }
 ],
 "metadata": {
  "kernelspec": {
   "display_name": "Python 3 (ipykernel)",
   "language": "python",
   "name": "python3"
  },
  "language_info": {
   "codemirror_mode": {
    "name": "ipython",
    "version": 3
   },
   "file_extension": ".py",
   "mimetype": "text/x-python",
   "name": "python",
   "nbconvert_exporter": "python",
   "pygments_lexer": "ipython3",
   "version": "3.9.7"
  }
 },
 "nbformat": 4,
 "nbformat_minor": 1
}