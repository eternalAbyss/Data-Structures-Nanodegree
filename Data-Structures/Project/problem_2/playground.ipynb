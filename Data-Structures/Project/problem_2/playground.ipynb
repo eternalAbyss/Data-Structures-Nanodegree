{
 "cells": [
  {
   "cell_type": "code",
   "execution_count": 1,
   "metadata": {},
   "outputs": [],
   "source": [
    "import os\n"
   ]
  },
  {
   "cell_type": "code",
   "execution_count": 2,
   "metadata": {},
   "outputs": [],
   "source": [
    "os.listdir('./testdir/')\n",
    "basepath = './testdir'"
   ]
  },
  {
   "cell_type": "code",
   "execution_count": 3,
   "metadata": {},
   "outputs": [
    {
     "name": "stdout",
     "output_type": "stream",
     "text": [
      "subdir4 True\n",
      "subdir3 True\n",
      "t1.c False\n",
      "subdir2 True\n",
      "subdir5 True\n",
      "t1.h False\n",
      "subdir1 True\n"
     ]
    }
   ],
   "source": [
    "for each in os.listdir('./testdir'):\n",
    "    print(each, os.path.isdir(os.path.join(basepath, each)))\n",
    "    "
   ]
  },
  {
   "cell_type": "code",
   "execution_count": 5,
   "metadata": {},
   "outputs": [],
   "source": [
    "def file_explorer(path):\n",
    "    for each in os.listdir(path):\n",
    "        inner_path = os.path.join(path, each)\n",
    "        if os.path.isdir(inner_path):\n",
    "            file_explorer(inner_path)\n",
    "        else:\n",
    "            if each[-2:] == \".c\":\n",
    "                print(each[-2:])"
   ]
  },
  {
   "cell_type": "code",
   "execution_count": null,
   "metadata": {},
   "outputs": [],
   "source": [
    "file_explorer(basepath)"
   ]
  },
  {
   "cell_type": "code",
   "execution_count": null,
   "metadata": {},
   "outputs": [],
   "source": [
    "def file_explorer_recur(path):\n",
    "    inner_path = "
   ]
  },
  {
   "cell_type": "code",
   "execution_count": null,
   "metadata": {},
   "outputs": [],
   "source": [
    "def test(num_list, num):\n",
    "    output = []\n",
    "    if num == 0:\n",
    "        print(num_list)\n",
    "        return output.append(1)\n",
    "    else:\n",
    "        output.append(num)\n",
    "        test(output,num-1)\n",
    "    return output\n",
    "print(test([],3))"
   ]
  },
  {
   "cell_type": "code",
   "execution_count": 6,
   "metadata": {},
   "outputs": [
    {
     "name": "stdout",
     "output_type": "stream",
     "text": [
      "['subdir4', 'subdir3', 't1.c', 'subdir2', 'subdir5', 't1.h', 'subdir1']\n"
     ]
    }
   ],
   "source": [
    "def file_explorer_base(path):\n",
    "    objects = os.listdir(path)\n",
    "    for each in objects:\n",
    "        inner_path = os.path.join(path, each)\n",
    "        if os.path.isdir(inner_path):\n",
    "            file_recur(inner_path)\n",
    "            \n",
    "\n",
    "def file_recur(path, files=[]):\n",
    "    if os.path.isdir(path):\n",
    "        inner_path = os.path.join(path,)\n",
    "    \n",
    "    \n",
    "file_explorer_base('./testdir/')"
   ]
  }
 ],
 "metadata": {
  "kernelspec": {
   "display_name": "Python 3 (ipykernel)",
   "language": "python",
   "name": "python3"
  },
  "language_info": {
   "codemirror_mode": {
    "name": "ipython",
    "version": 3
   },
   "file_extension": ".py",
   "mimetype": "text/x-python",
   "name": "python",
   "nbconvert_exporter": "python",
   "pygments_lexer": "ipython3",
   "version": "3.9.7"
  }
 },
 "nbformat": 4,
 "nbformat_minor": 1
}
