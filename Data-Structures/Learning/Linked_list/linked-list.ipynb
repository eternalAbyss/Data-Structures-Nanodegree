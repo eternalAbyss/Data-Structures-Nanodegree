{
 "cells": [
  {
   "cell_type": "code",
   "execution_count": 19,
   "metadata": {},
   "outputs": [],
   "source": [
    "class Node:\n",
    "    def __init__(self, value=None):\n",
    "        self.value = value\n",
    "        self.next = None\n",
    "    \n",
    "class LinkedList:\n",
    "    def __init__(self, value=None):\n",
    "        if value == None:\n",
    "            self.head = None\n",
    "        else:\n",
    "            self.head = Node(value)\n",
    "        \n",
    "    def append(self, value=None):\n",
    "        current_node = self.head\n",
    "        if current_node is None:\n",
    "            current_node = Node(value)\n",
    "            self.head = current_node\n",
    "        else:\n",
    "            while current_node.next:\n",
    "                current_node = current_node.next\n",
    "            current_node.next = Node(value)\n",
    "        \n",
    "    def __repr__(self):\n",
    "        current_node = self.head\n",
    "        values = list()\n",
    "        while current_node:\n",
    "            values.append(current_node.value)\n",
    "            current_node = current_node.next\n",
    "        return str(values)"
   ]
  },
  {
   "cell_type": "code",
   "execution_count": 20,
   "metadata": {},
   "outputs": [
    {
     "name": "stdout",
     "output_type": "stream",
     "text": [
      "[42, 23]\n"
     ]
    }
   ],
   "source": [
    "ll = LinkedList()\n",
    "ll.append(42)\n",
    "ll.append(23)\n",
    "print(ll)"
   ]
  },
  {
   "cell_type": "code",
   "execution_count": null,
   "metadata": {},
   "outputs": [],
   "source": []
  }
 ],
 "metadata": {
  "kernelspec": {
   "display_name": "Python 3 (ipykernel)",
   "language": "python",
   "name": "python3"
  },
  "language_info": {
   "codemirror_mode": {
    "name": "ipython",
    "version": 3
   },
   "file_extension": ".py",
   "mimetype": "text/x-python",
   "name": "python",
   "nbconvert_exporter": "python",
   "pygments_lexer": "ipython3",
   "version": "3.9.7"
  }
 },
 "nbformat": 4,
 "nbformat_minor": 1
}