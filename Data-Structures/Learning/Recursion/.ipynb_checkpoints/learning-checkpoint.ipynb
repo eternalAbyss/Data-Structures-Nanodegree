{
 "cells": [
  {
   "cell_type": "markdown",
   "metadata": {
    "collapsed": true
   },
   "source": [
    "# Recursion\n",
    "\n",
    "This Notebook contains the recusion functions and related notes/docs\n",
    "\n",
    "## What is Recursion\n",
    "\n",
    "A function calling itself to provide a faster and cleaner code is known as a recursive function and the operation is called R"
   ]
  }
 ],
 "metadata": {
  "kernelspec": {
   "display_name": "Python 3 (ipykernel)",
   "language": "python",
   "name": "python3"
  },
  "language_info": {
   "codemirror_mode": {
    "name": "ipython",
    "version": 3
   },
   "file_extension": ".py",
   "mimetype": "text/x-python",
   "name": "python",
   "nbconvert_exporter": "python",
   "pygments_lexer": "ipython3",
   "version": "3.9.7"
  }
 },
 "nbformat": 4,
 "nbformat_minor": 1
}
