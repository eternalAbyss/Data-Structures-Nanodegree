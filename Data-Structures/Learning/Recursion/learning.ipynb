{
 "cells": [
  {
   "cell_type": "markdown",
   "metadata": {
    "collapsed": true
   },
   "source": [
    "# Recursion\n",
    "\n",
    "This Notebook contains the recusion functions and related notes/docs\n",
    "\n",
    "## What is Recursion\n",
    "\n",
    "A function calling itself to provide a faster and cleaner code is known as a recursive function and the operation is called Recursion\n",
    "\n",
    "## Why Recursion?\n",
    "Recursion is usually faster than the traditional function with several exceptions. \n"
   ]
  },
  {
   "cell_type": "code",
   "execution_count": 1,
   "metadata": {},
   "outputs": [
    {
     "data": {
      "text/plain": [
       "120"
      ]
     },
     "execution_count": 1,
     "metadata": {},
     "output_type": "execute_result"
    }
   ],
   "source": [
    "def recursive_fact(num):\n",
    "    if num <= 1:\n",
    "        return 1\n",
    "    else:\n",
    "        return num * recursive_fact(num-1)\n",
    "    \n",
    "recursive_fact(5)"
   ]
  },
  {
   "cell_type": "code",
   "execution_count": 8,
   "metadata": {},
   "outputs": [
    {
     "name": "stdout",
     "output_type": "stream",
     "text": [
      "[1, 2, 3, 4, 5, 6, 7, 8, 9, 10]\n"
     ]
    }
   ],
   "source": [
    "def return_list(num, num_list=[]):\n",
    "    \"\"\"\n",
    "    Input : an integer\n",
    "    output : a list of integers\n",
    "    \n",
    "    The function will return a list containing all the intergers from 1 to the given input\n",
    "    \"\"\"\n",
    "    if num == 1:\n",
    "        num_list.append(1)\n",
    "        return [_ for _ in reversed(num_list)]\n",
    "    else:\n",
    "        num_list.append(num)\n",
    "        return return_list(num-1, num_list)\n",
    "\n",
    "print(return_list(10))"
   ]
  }
 ],
 "metadata": {
  "kernelspec": {
   "display_name": "Python 3 (ipykernel)",
   "language": "python",
   "name": "python3"
  },
  "language_info": {
   "codemirror_mode": {
    "name": "ipython",
    "version": 3
   },
   "file_extension": ".py",
   "mimetype": "text/x-python",
   "name": "python",
   "nbconvert_exporter": "python",
   "pygments_lexer": "ipython3",
   "version": "3.9.7"
  }
 },
 "nbformat": 4,
 "nbformat_minor": 1
}